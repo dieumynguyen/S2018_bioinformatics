{
 "cells": [
  {
   "cell_type": "markdown",
   "metadata": {},
   "source": [
    "### Homework 6\n",
    "Dieu My Nguyen | MCDB 5520 | April 30, 2018 "
   ]
  },
  {
   "attachments": {},
   "cell_type": "markdown",
   "metadata": {},
   "source": [
    "<b>1\\. (20 pt: ** NOTE this question is worth twice normal value**) During an analysis of a promoter you identify six sites (shown below) that alter the expression of the promoter when they are deleted.\n",
    "\n",
    "ACGGAG <br>\n",
    "ACGTGG <br>\n",
    "AGGAAG <br>\n",
    "AGGCAC <br>\n",
    "ACGCAC <br>\n",
    "AGGGAC <br>\n",
    "</b>"
   ]
  },
  {
   "attachments": {},
   "cell_type": "markdown",
   "metadata": {},
   "source": [
    "<b>(a) (3pt) Since the number of sites is small, we will include pseudocounts distributed according to the background nucleotide frequencies in the genome. Assume you are working in a genome where %A=%T=20%, and %G=%C=30%. The sum of all pseudocounts per position should be 1. What are the pseudocount values for each nucleotide? </b>\n",
    "\n",
    "A: 0.2 <br>\n",
    "C: 0.3 <br>\n",
    "G: 0.3 <br>\n",
    "T: 0.2 <br>"
   ]
  },
  {
   "attachments": {},
   "cell_type": "markdown",
   "metadata": {},
   "source": [
    "<b>(b) (4pt) Fill in the nucleotide count matrix, N(b,i) for this multiple alignment, including pseudocounts.</b>\n",
    "\n"
   ]
  },
  {
   "cell_type": "code",
   "execution_count": 22,
   "metadata": {
    "collapsed": true
   },
   "outputs": [],
   "source": [
    "# Import modules \n",
    "from Bio import motifs\n",
    "from Bio.Seq import Seq\n",
    "import numpy as np"
   ]
  },
  {
   "cell_type": "code",
   "execution_count": 11,
   "metadata": {
    "collapsed": true
   },
   "outputs": [],
   "source": [
    "# Set 6 sites\n",
    "sites = [\n",
    "        Seq(\"ACGGAG\"),\n",
    "        Seq(\"ACGTGG\"),\n",
    "        Seq(\"AGGAAG\"),\n",
    "        Seq(\"AGGCAC\"),\n",
    "        Seq(\"ACGCAC\"),\n",
    "        Seq(\"AGGGAC\")]"
   ]
  },
  {
   "cell_type": "code",
   "execution_count": 17,
   "metadata": {
    "collapsed": true
   },
   "outputs": [],
   "source": [
    "# Set background frequencies\n",
    "bg_freq = {\n",
    "    \"A\" : .2,\n",
    "    \"T\" : .2,\n",
    "    \"G\" : .3,\n",
    "    \"C\" : .3,\n",
    "}"
   ]
  },
  {
   "cell_type": "code",
   "execution_count": 18,
   "metadata": {
    "collapsed": true
   },
   "outputs": [],
   "source": [
    "# Create motif object\n",
    "m = motifs.create(sites)"
   ]
  },
  {
   "cell_type": "markdown",
   "metadata": {},
   "source": [
    "Raw count matrix (position frequency matrix, PFM) without pseudocounts:"
   ]
  },
  {
   "cell_type": "code",
   "execution_count": 19,
   "metadata": {},
   "outputs": [
    {
     "name": "stdout",
     "output_type": "stream",
     "text": [
      "        0      1      2      3      4      5\n",
      "A:   6.00   0.00   0.00   1.00   5.00   0.00\n",
      "C:   0.00   3.00   0.00   2.00   0.00   3.00\n",
      "G:   0.00   3.00   6.00   2.00   1.00   3.00\n",
      "T:   0.00   0.00   0.00   1.00   0.00   0.00\n",
      "\n"
     ]
    }
   ],
   "source": [
    "# Note: indexing with 0\n",
    "print(m.counts)"
   ]
  },
  {
   "cell_type": "markdown",
   "metadata": {},
   "source": [
    "Add pseudocounts:\n",
    "$$ N_{b,i} := N_{b,i} + \\beta q_b$$ where $$ \\beta = 1 \\text{ and } q_A = q_T = 0.2\\text{, } q_G = q_C = 0.3$$"
   ]
  },
  {
   "cell_type": "code",
   "execution_count": 28,
   "metadata": {},
   "outputs": [],
   "source": [
    "# Add pseudocounts to PFM\n",
    "new_PFM = dict(m.counts)    # copy raw count matrix\n",
    "\n",
    "for key, val in new_PFM.items():    # add pseudocount from background frequencies\n",
    "    pseudo_count = bg_freq[key]\n",
    "    new_PFM[key] = np.array(val) + pseudo_count"
   ]
  },
  {
   "cell_type": "markdown",
   "metadata": {},
   "source": [
    "Count matrix with pseudocounts:"
   ]
  },
  {
   "cell_type": "code",
   "execution_count": 29,
   "metadata": {},
   "outputs": [
    {
     "data": {
      "text/plain": [
       "{'A': array([6.2, 0.2, 0.2, 1.2, 5.2, 0.2]),\n",
       " 'C': array([0.3, 3.3, 0.3, 2.3, 0.3, 3.3]),\n",
       " 'G': array([0.3, 3.3, 6.3, 2.3, 1.3, 3.3]),\n",
       " 'T': array([0.2, 0.2, 0.2, 1.2, 0.2, 0.2])}"
      ]
     },
     "execution_count": 29,
     "metadata": {},
     "output_type": "execute_result"
    }
   ],
   "source": [
    "new_PFM"
   ]
  },
  {
   "attachments": {
    "Screen%20Shot%202018-04-29%20at%2020.25.09.png": {
     "image/png": "[encoded data removed]"
    }
   },
   "cell_type": "markdown",
   "metadata": {},
   "source": [
    "<b>(c)\t(5pt) Now convert the above counts matrix into a probability matrix, recalling that\n",
    "\n",
    "![Screen%20Shot%202018-04-29%20at%2020.25.09.png](attachment:Screen%20Shot%202018-04-29%20at%2020.25.09.png)\n",
    "</b>\n",
    "\n",
    "Sample calculation for A at 0th position:<br>\n",
    "\n",
    "$6.2 / (6.2 + 0.3 + 0.3 + 0.2) = 6.2 / 7 = 0.89$"
   ]
  },
  {
   "cell_type": "code",
   "execution_count": 30,
   "metadata": {
    "collapsed": true
   },
   "outputs": [],
   "source": [
    "pwm = m.counts.normalize(pseudocounts=bg_freq)"
   ]
  },
  {
   "cell_type": "code",
   "execution_count": 33,
   "metadata": {
    "scrolled": true
   },
   "outputs": [
    {
     "name": "stdout",
     "output_type": "stream",
     "text": [
      "        0      1      2      3      4      5\n",
      "A:   0.89   0.03   0.03   0.17   0.74   0.03\n",
      "C:   0.04   0.47   0.04   0.33   0.04   0.47\n",
      "G:   0.04   0.47   0.90   0.33   0.19   0.47\n",
      "T:   0.03   0.03   0.03   0.17   0.03   0.03\n",
      "\n"
     ]
    }
   ],
   "source": [
    "# Python rounded these to 2 decimals\n",
    "print(pwm)"
   ]
  },
  {
   "cell_type": "markdown",
   "metadata": {},
   "source": [
    "<b>(d)\t(5pt) Now convert the above probabilitiy matrix into a scoring matrix, recalling\n",
    "that S(b,i)=log[P(b,i)/P(b)], where P(b) is defined by the genome’s nucleotide\n",
    "frequencies.\n",
    "</b>\n",
    "\n",
    "Sample calculation for A at 0th position: <br>\n",
    "$log_2 (0.89 / 0.2) = 2.15$"
   ]
  },
  {
   "cell_type": "code",
   "execution_count": 35,
   "metadata": {},
   "outputs": [],
   "source": [
    "pssm = pwm.log_odds(bg_freq)"
   ]
  },
  {
   "cell_type": "code",
   "execution_count": 36,
   "metadata": {},
   "outputs": [
    {
     "name": "stdout",
     "output_type": "stream",
     "text": [
      "        0      1      2      3      4      5\n",
      "A:   2.15  -2.81  -2.81  -0.22   1.89  -2.81\n",
      "C:  -2.81   0.65  -2.81   0.13  -2.81   0.65\n",
      "G:  -2.81   0.65   1.58   0.13  -0.69   0.65\n",
      "T:  -2.81  -2.81  -2.81  -0.22  -2.81  -2.81\n",
      "\n"
     ]
    }
   ],
   "source": [
    "print(pssm)"
   ]
  },
  {
   "cell_type": "markdown",
   "metadata": {},
   "source": [
    "<b>(e) (3pt) Consider the following two new sequences: <br>\n",
    "\n",
    "Sequence 1: TCGGAG <br>\n",
    "Sequence 2: ACTGAG <br>\n",
    " <br>\n",
    "Based on the scoring scheme determined in part D, which of these two\n",
    "sequences is a better fit to this motif model? <b>\n",
    "\n",
    "Sequence 2 is better with a higher score. "
   ]
  },
  {
   "cell_type": "code",
   "execution_count": 38,
   "metadata": {
    "collapsed": true
   },
   "outputs": [],
   "source": [
    "seq_1 = Seq(\"TCGGAG\", m.alphabet)\n",
    "seq_2 = Seq(\"ACTGAG\", m.alphabet)"
   ]
  },
  {
   "cell_type": "code",
   "execution_count": 42,
   "metadata": {},
   "outputs": [
    {
     "name": "stdout",
     "output_type": "stream",
     "text": [
      "Sequence 1 score: 2.1060903\n",
      "Sequence 2 score: 2.6679692\n"
     ]
    }
   ],
   "source": [
    "print(\"Sequence 1 score: \" + str(pssm.calculate(seq_1)))\n",
    "print(\"Sequence 2 score: \" + str(pssm.calculate(seq_2)))"
   ]
  },
  {
   "cell_type": "markdown",
   "metadata": {},
   "source": [
    "<b>2. (10pt) You notice that only 60% of the peaks detected by ChIP-Seq have the\n",
    "known transcription factor motif nearby.</b>"
   ]
  },
  {
   "attachments": {},
   "cell_type": "markdown",
   "metadata": {},
   "source": [
    "<b>(a) (5pt) Give at least two explanations for the remaining 40%.</b>\n",
    "\n",
    "•\tFalse positive ChIP signals. The 40% of peaks may not indicate true motifs with proteins binding. The false discovery rate (FDR) chosen to perform peak calling might have been too high and thus substantial enrichments were classified as peaks.\n",
    "\n",
    "•\tNovel genes are that epigenetically inactive and/or haven’t been discovered/annotated. \n",
    "\n"
   ]
  },
  {
   "attachments": {},
   "cell_type": "markdown",
   "metadata": {},
   "source": [
    "<b>(b) (5pt) How would you test (experimentally or computationally) for the explanations you suggested in part A? </b>\n",
    "\n",
    "•\tUse stricter FDR to get the best peaks that may hold biological truth. There might also be errors in the reference genome. For example, multicopy sequences may have been incorrectly assembled into a single copy. If this is the case, we could try the masking procedure documented in this paper: False positive peaks in ChIP-seq and other sequencing-based functional assays caused by unannotated high copy number regions by Pickrell et al (2011)\n",
    "\n",
    "•\tMatch the unknown motifs to known motifs by HOMER using similarity. If the unknown motif is conserved, the motif finding is relatively easier than if mutations have occurred at this location. \n",
    "\n",
    "•\tOverall, repeating the study experimentally and computationally is usually a good idea. \n"
   ]
  },
  {
   "cell_type": "markdown",
   "metadata": {},
   "source": [
    "<b>3. (10pts)Your colleague professor Stu Dent generated a genome-wide DNA methylation\n",
    "map for normal colon cells using MRE-seq (a restriction enzyme approach) and MeDIPseq\n",
    "(an immunoprecipitation approach). In an intergenic region, he found an interesting\n",
    "locus. This locus is about 20kb. On one end of the locus, there is a 2kb CpG rich stretch\n",
    "that has both relatively low MRE-seq and MeDIP-seq signals. The rest 18kb has high\n",
    "level of MeDIP-seq signals. </b>\n",
    "\n"
   ]
  },
  {
   "attachments": {},
   "cell_type": "markdown",
   "metadata": {},
   "source": [
    "<b> (a) (3pt) Why might you suspect that this region encodes for a novel gene? </b>\n",
    "\n",
    "High MeDIP-seq signals indicate high methylation levels in the 18kb region of the locus. CpG methylation is a central mechanism of epigenetic gene regulation. This region with high CpG methylation may indicate low expression level of a possibly novel gene that is inactivated epigenetically. \n"
   ]
  },
  {
   "attachments": {},
   "cell_type": "markdown",
   "metadata": {},
   "source": [
    "<b> (b) (4pt) You decide to look at histone modification patterns across this region for more\n",
    "evidence. There are several genome-wide datasets available for this cell type:\n",
    "H3K4me1, H3K4me3, H3K27me3, H3K9me3, H3K36me3, and H3K9Ac. Which histone\n",
    "mark would you investigate for this locus and why? </b>\n",
    "\n",
    "I’d use H3K27me3, which is known to inhibit transcription. When it’s trimethylated, it’s associated with inactive gene promoters. We can use this histone mark to look for this inactive gene that may be novel. (source: https://www.ncbi.nlm.nih.gov/pubmed/21652639)\n"
   ]
  },
  {
   "attachments": {},
   "cell_type": "markdown",
   "metadata": {},
   "source": [
    "<b> (c) (3pt) Suggest at least one other source of data (NOT annotation or bisulfide\n",
    "sequencing) that may help you confirm or refute your suspicion, and why you think it\n",
    "may help?</b>\n",
    "\n",
    "Since our candidate gene is unknown and possibly novel, we may have 2 approaches for DNA methylation analysis: 1) whole genome methylation profiling and 2) searching for differentially methylated regions. For the latter, we can do bisulfide sequencing, but if not, we can use enzyme cleavage or m-CIP. Cleavage of DNA by a restriction enzyme may be blocked or impaired when the recognition sequence is methylated. From the effect of the cleavage activity of the commonly used pair of restriction enzymes Mspl and Hpall, we could infer the sequence’s DNA methylation status, allowing locus-specific discrimination between the methylated and unmethylated sequence. Otherwise, we could use another bisulfite-free method, Methylated CpG immunoprecipitation or m-CIP, to obtain enrichments of methylated CpGs by using a protein that binds methylated CpGs in DNA (MBD2). To confirm our suspicion, we would hope to see high levels of methylated CpGs in the region of interest. \n"
   ]
  },
  {
   "attachments": {},
   "cell_type": "markdown",
   "metadata": {},
   "source": [
    "<b>4.  (10pt) Consider the following simple Bayesian network diagram:\n",
    "\n",
    "<img src=\"4.png\" alt=\"Girl in a jacket\" style=\"width:290px;height:40px;\">\n",
    "\n",
    "<br>\n",
    "Where F is “having the flu” and C is “coughing” and both are binary (yes/no)\n",
    "variables."
   ]
  },
  {
   "attachments": {},
   "cell_type": "markdown",
   "metadata": {},
   "source": [
    "<b>(a) (3 pt)Given the diagram, what is the probability of both having the flu and a\n",
    "cough e.g. P(F,C)? </b>\n",
    "\n",
    "P(C|F) = P(C,F) / P(F) <br>\n",
    "P(C|F) x P(F) = P(C,F) <br>\n",
    "(0.8)(0.1) = 0.08\n"
   ]
  },
  {
   "attachments": {},
   "cell_type": "markdown",
   "metadata": {},
   "source": [
    "<b>(b) (3 pt) What is the probability of having a cough e.g. P(C) from the diagram?</b>\n",
    "\n",
    "P(C) = P(F,C) + P(not F,C) <br>\n",
    "P(not F,C) = P(not F) × P(C | not F) = 0.9 × 0.3 = 0.27 <br>\n",
    "P(C) = 0.08 + 0.27 = 0.35\n"
   ]
  },
  {
   "attachments": {},
   "cell_type": "markdown",
   "metadata": {},
   "source": [
    "<b>(c)\t(4 pt)Draw a Bayesian network to encode the following statement. Be sure to\n",
    "state all assumptions included in your diagram. \n",
    "\n",
    "\n",
    "“A smell of sulphur (S) can be caused either by rotten eggs (E) or as a sign of\n",
    "the doom brought by the Mayan Apocalypse (M). The Mayan Apocalypse also\n",
    "causes the oceans to boil (B).”</b>\n",
    "\n",
    "<img src=\"4c.png\" alt=\"X\" style=\"width:300px;height:200px;\">\n"
   ]
  },
  {
   "attachments": {},
   "cell_type": "markdown",
   "metadata": {},
   "source": [
    "<b>5. Read “The what, where, how and why of gene ontology -- a primer for\n",
    "bioinformaticians” (PDF is available on Canvas as GOprimer.pdf) and answer the following questions: </b>\n",
    "\n",
    "<b>a) (1pt) What are the three ontologies in GO?</b>\n",
    "\n",
    "Molecular function, biological process, and cellular component. \n",
    "\n",
    "<b>b) (1pt) The relationships within GO form what kind of graph?</b>\n",
    "\n",
    "Directed acrylic graph (DAG)\n",
    "\n",
    "<b>c) (1pt) What is the main difference between the full and filtered GO?</b>\n",
    "\n",
    "The filtered GO doesn’t contain any “has_part” or inter-ontology relationships. Many analysis tools can only use the filtered GO. \n",
    "\n",
    "<b>d) (1pt) Who does most of the current GO annotation?</b>\n",
    "\n",
    "Professional curators examining the literature.\n",
    "\n",
    "<b>e) (1pt) According to Figure 5, what is the most common type of evidence for\n",
    "information within GO?</b>\n",
    "\n",
    "The IEA evidence code.\n",
    "\n",
    "<b>f) (2pt) Give one pro and one con of the information content measure of GO\n",
    "terms.</b>\n",
    "\n",
    "Pro: IC-based measures are less influenced by the idiosyncrasies of the ontology structure than the graph-based measures\n",
    "\n",
    "Con: IC-based measures are still biased, because some terms are used more often and some research areas receive more attention than others.\n",
    "\n",
    "<b>g) (3pt) List 3 major criticism of GO.</b>\n",
    "\n",
    "Annotations only describe the normal, healthy functioning of genes.\n",
    "Data on functional coordination between multi-function genes are not explicitly stored.\n",
    "Until recently no relationships between the 3 ontologies were recorded. Now, inter-ontology relationships are only recorded in the full GO, which is not used by all analysis tools.\n"
   ]
  },
  {
   "attachments": {},
   "cell_type": "markdown",
   "metadata": {},
   "source": [
    "<b>6. (Advanced: 10pt) There are two competing methods for chromatin state\n",
    "annotation, Segway (Hoffman et. al. Nat. Methods 2012) and ChromHMM (Ernst & Kellis Nat. Biotech. 2010). Interestingly, the two groups came together to\n",
    "publish a paper (on Canvas) that compares the two approaches (Hoffman et. al.\n",
    "NAR 2012). Read the NAR paper and answer the following questions: </b>\n",
    "\n",
    "\n",
    "<b>A. (3pt) Describe the difference between supervised and unsupervised methods.</b>\n",
    "\n",
    "Supervised methods find instances of one or more pre-determined classes of elements. These methods have been widely used for automatic gene finding that can recognize protein-coding transcripts using sequence features, cDNA sequence and evolutionary conservation of known examples. But because these methods require a training set of known examples, they cannot discover novel types of functional elements. \n",
    "\n",
    "Unsupervised methods seek to simultaneously discover functional classes and annotate their instances de novo, without needing previously defined classes or known examples. In this way, they can avoid bias toward well-understood phenomena. \n",
    "\n",
    "<b>B. (2pt) According to Figure 3, in what state do most phenotype-associated\n",
    "SNPs reside?</b>\n",
    "\n",
    "Mostly in Enh state.\n",
    "\n",
    "<b>C. (2pt) The authors avoid (quite emphatically) declaring either method as\n",
    "superior. Based on the results presented, which method is better and why?</b>\n",
    "\n",
    "The authors advise the reader to examine both chromatin state annotations in regions of interest since both might capture a different aspect of the biology. Segway produces smaller segments than ChromHMM. Segway has high resolution, while ChromHMM has high continuity. \n",
    "\n",
    "Some considerations of the results: For genes, both methods devote to identifying and characterizing protein-coding genes. For promoters, Segway can find high-resolution patterns at TSSs localized to the level of stable nucleosome-free promoter regions, while ChromHMM finds larger TSS-associated segments. Both discovered candidate transcriptional terminators, but here, ChromHMM also discovered the accumulation of a Pol2 label. Taken together, since Segway and uses a variety of data types as input, it might be trained to decipher more biolgical nuances at higher resolution than ChromHMM which is trained with only histone modification data. \n",
    "\n",
    "\n",
    "<b>D. (3pt) What are the inherent tradeoffs in the number of states? [Here they use\n",
    "25 states, but the original ChromHMM paper used 51 and in other papers they use 12, 16, 19, and 21.] </b>\n",
    "\n",
    "In the paper, the number of chromatin states was a compromise between these inherent tradeoffs: Capturing the potential complexity of chromatin mark combinations (need large number of states) and generating models that are make genomic features overall interpretable (need small number of states). The authors chose 25, which they think is suitable for the number of chromatin marks and other input data tracks, allowing annotation of the likely functional roles of each state. Additional chromatin states might be discovered as the number of chromatin properties that can be elucidated increases. \n"
   ]
  },
  {
   "attachments": {
    "image.png": {
     "image/png": "[encoded data removed]"
    }
   },
   "cell_type": "markdown",
   "metadata": {},
   "source": [
    "<b> 7. (Extra Credit) Consider the following (insanely) simple grammar for RNA\n",
    "secondary structure prediction:\n",
    "\n",
    "S → aSa'S | aS | ε\n",
    "\n",
    "<br>\n",
    "The first rule (S → aSa'S) captures both bifurcation (splitting for multiple stem\n",
    "structures) and base pairing! Draw a parse tree indicating how this structure:\n",
    "\n",
    "Screen Shot 2018-04-29 at 20.06.39![image.png](attachment:image.png)\n",
    "\n",
    "would be generated from this simple (but admittedly a bit odd) grammar. Recall:\n",
    "the parse tree must begin with S, each non-terminal (in this case “S”) is replaced\n",
    "at each step of tree with a single rule from the grammar, and all branches must\n",
    "end with ε. Hint: We will discuss secondary structure of RNAs starting on April\n",
    "23rd.\n"
   ]
  },
  {
   "attachments": {},
   "cell_type": "markdown",
   "metadata": {},
   "source": [
    "<img src=\"7.png\" alt=\"X\" style=\"width:150px;height:400px;\">"
   ]
  }
 ],
 "metadata": {
  "kernelspec": {
   "display_name": "Python 3",
   "language": "python",
   "name": "python3"
  },
  "language_info": {
   "codemirror_mode": {
    "name": "ipython",
    "version": 3
   },
   "file_extension": ".py",
   "mimetype": "text/x-python",
   "name": "python",
   "nbconvert_exporter": "python",
   "pygments_lexer": "ipython3",
   "version": "3.6.2"
  }
 },
 "nbformat": 4,
 "nbformat_minor": 2
}
