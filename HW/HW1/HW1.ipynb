{
 "cells": [
  {
   "cell_type": "markdown",
   "metadata": {},
   "source": [
    "### Homework 1\n",
    "Dieu My Nguyen | MCDB 5520 | February 9, 2018"
   ]
  },
  {
   "attachments": {},
   "cell_type": "markdown",
   "metadata": {},
   "source": [
    "#### Question #1. Calculate the following: <br> (a)\t(3pts) P(s = “MENDEL”) <br> (b)\t(3pts) P(s = “ROSALIND”) <br> (c) (4pts) P(s = “charged” or “aromatic”)"
   ]
  },
  {
   "cell_type": "markdown",
   "metadata": {},
   "source": [
    "Dictionary of codon usage table as percentages; this is our alphabet:"
   ]
  },
  {
   "cell_type": "code",
   "execution_count": 152,
   "metadata": {},
   "outputs": [],
   "source": [
    "codons_usage = {\"A\": 7.81, \"Q\": 3.94, \"L\": 9.62, \"S\": 6.88,\n",
    "\"R\": 5.32, \"E\": 6.60, \"K\": 5.93, \"T\": 5.45,\n",
    "\"N\": 4.20, \"G\": 6.93, \"M\": 2.37, \"W\": 1.15,\n",
    "\"D\": 5.30, \"H\" : 2.28, \"F\" : 4.01, \"Y\" : 3.07,\n",
    "\"C\": 1.56, \"I\" : 5.91, \"P\" : 4.84, \"V\" : 6.71}"
   ]
  },
  {
   "cell_type": "markdown",
   "metadata": {},
   "source": [
    "New dictionary of codon usage table as probabilities:"
   ]
  },
  {
   "cell_type": "code",
   "execution_count": 162,
   "metadata": {},
   "outputs": [],
   "source": [
    "codons_prob = {}\n",
    "for i in codons_usage.keys():\n",
    "    codons_prob[i] = codons_usage[i] / 100"
   ]
  },
  {
   "cell_type": "code",
   "execution_count": 163,
   "metadata": {
    "scrolled": true
   },
   "outputs": [
    {
     "data": {
      "text/plain": [
       "{'A': 0.0781,\n",
       " 'C': 0.015600000000000001,\n",
       " 'D': 0.053,\n",
       " 'E': 0.066,\n",
       " 'F': 0.0401,\n",
       " 'G': 0.0693,\n",
       " 'H': 0.022799999999999997,\n",
       " 'I': 0.0591,\n",
       " 'K': 0.0593,\n",
       " 'L': 0.0962,\n",
       " 'M': 0.023700000000000002,\n",
       " 'N': 0.042,\n",
       " 'P': 0.0484,\n",
       " 'Q': 0.0394,\n",
       " 'R': 0.053200000000000004,\n",
       " 'S': 0.0688,\n",
       " 'T': 0.0545,\n",
       " 'V': 0.06709999999999999,\n",
       " 'W': 0.0115,\n",
       " 'Y': 0.030699999999999998}"
      ]
     },
     "execution_count": 163,
     "metadata": {},
     "output_type": "execute_result"
    }
   ],
   "source": [
    "codons_prob"
   ]
  },
  {
   "cell_type": "markdown",
   "metadata": {},
   "source": [
    "Assuming the codons are independent, then the problem is a logical AND and we multiple individual amino acid probabilities to obtain the probability of a particular sequence. We also assume that we can have repeats (sampling with replacement).\n",
    "\n",
    "The function below does this. Note that since there is no \"O\", the probability of \"ROSALIND\" is 0 because P(\"O\") = 0. "
   ]
  },
  {
   "cell_type": "code",
   "execution_count": 203,
   "metadata": {},
   "outputs": [
    {
     "name": "stdout",
     "output_type": "stream",
     "text": [
      "A) Probability of 'MENDEL': 2.2107337892640003e-08\n",
      "B) Probability of 'ROSALIND': 0.0\n"
     ]
    }
   ],
   "source": [
    "def prob_protein(protein, codon_dict):\n",
    "    prob = 1\n",
    "    for aa in protein:\n",
    "        if aa not in codon_dict.keys():\n",
    "            aa = 0\n",
    "            prob *= aa\n",
    "        \n",
    "        else:\n",
    "            prob *= codon_dict[aa]\n",
    "    \n",
    "    return prob\n",
    "\n",
    "print(\"A) Probability of 'MENDEL': \" + str(prob_protein(\"MENDEL\", codons_prob)))\n",
    "print(\"B) Probability of 'ROSALIND': \" + str(prob_protein(\"ROSALIND\", codons_prob)))"
   ]
  },
  {
   "cell_type": "markdown",
   "metadata": {},
   "source": [
    "Now, the probability of \"charged\" or \"aromatic\" with the same indepedent assumption: <br>\n",
    "According to this site: https://www.mcb.ucdavis.edu/courses/bis102/Aromatic.html <br>\n",
    "\n",
    "Aromatic amino acids: F, Y, W <br>\n",
    "Charged amino acids: D, E, H, K, R\n",
    "Logical OR: P(charged or aromatic) = P(F)+P(Y)+P(W)+P(D)+P(E)+P(H)+P(K)+P(R)"
   ]
  },
  {
   "cell_type": "code",
   "execution_count": 204,
   "metadata": {},
   "outputs": [
    {
     "data": {
      "text/plain": [
       "['F', 'Y', 'W', 'D', 'E', 'H', 'K', 'R']"
      ]
     },
     "execution_count": 204,
     "metadata": {},
     "output_type": "execute_result"
    }
   ],
   "source": [
    "aromatic = [\"F\", \"Y\", \"W\"]\n",
    "charged = [\"D\", \"E\", \"H\", \"K\", \"R\"]\n",
    "merged = aromatic + charged\n",
    "merged"
   ]
  },
  {
   "cell_type": "code",
   "execution_count": 208,
   "metadata": {},
   "outputs": [
    {
     "name": "stdout",
     "output_type": "stream",
     "text": [
      "C) Probability of charged or aromatic: 0.33659999999999995\n"
     ]
    }
   ],
   "source": [
    "def prob_arom_charged(codon_dict, arom, charged):\n",
    "    prob = 0\n",
    "    for aa in codon_dict:\n",
    "        if aa in arom or aa in charged:\n",
    "            prob += codon_dict[aa]\n",
    "    return prob\n",
    "        \n",
    "print(\"C) Probability of charged or aromatic: \" + str(prob_arom_charged(codons_prob, aromatic, charged)))"
   ]
  },
  {
   "attachments": {},
   "cell_type": "markdown",
   "metadata": {},
   "source": [
    "#### Question #2. We observe the following empirical frequencies for dinucleotides, where the first nucleotide s(i) is the row and the second nucleotide s(i+1) is given in the columns, hence the P(GC) = 0.0522. Convert the above frequency matrix into a transition matrix for the Markov model of di-nucleotide sequences discussed in class. Note that each entry of the transition matrix is the conditional probability: P(s(i+1)| s(i))."
   ]
  },
  {
   "cell_type": "code",
   "execution_count": 48,
   "metadata": {
    "collapsed": true
   },
   "outputs": [],
   "source": [
    "import numpy as np"
   ]
  },
  {
   "cell_type": "code",
   "execution_count": 140,
   "metadata": {},
   "outputs": [],
   "source": [
    "freq_mat = array([\n",
    "    [0.1202, 0.0505, 0.0483, 0.0912],\n",
    "    [0.0665, 0.0372, 0.0396, 0.0484],\n",
    "    [0.0514, 0.0522, 0.0363, 0.0499],\n",
    "    [0.0721, 0.0518, 0.0656, 0.1189]\n",
    "])"
   ]
  },
  {
   "cell_type": "markdown",
   "metadata": {},
   "source": [
    "Get sum of each row, add to frequency matrix as last column:"
   ]
  },
  {
   "cell_type": "code",
   "execution_count": 141,
   "metadata": {},
   "outputs": [],
   "source": [
    "row_sums = list(freq_mat.sum(axis=1))"
   ]
  },
  {
   "cell_type": "code",
   "execution_count": 142,
   "metadata": {
    "scrolled": false
   },
   "outputs": [
    {
     "data": {
      "text/plain": [
       "array([[0.1202, 0.0505, 0.0483, 0.0912, 0.3102],\n",
       "       [0.0665, 0.0372, 0.0396, 0.0484, 0.1917],\n",
       "       [0.0514, 0.0522, 0.0363, 0.0499, 0.1898],\n",
       "       [0.0721, 0.0518, 0.0656, 0.1189, 0.3084]])"
      ]
     },
     "execution_count": 142,
     "metadata": {},
     "output_type": "execute_result"
    }
   ],
   "source": [
    "B = np.column_stack([freq_mat, row_sums])\n",
    "B"
   ]
  },
  {
   "cell_type": "markdown",
   "metadata": {},
   "source": [
    "Summation of each row in the transition matrix = 1, so in the frequency matrix each element in the row was divided by the sum of the row. The transition matrix is:"
   ]
  },
  {
   "cell_type": "code",
   "execution_count": 143,
   "metadata": {},
   "outputs": [
    {
     "name": "stdout",
     "output_type": "stream",
     "text": [
      "[0.38749194 0.16279819 0.155706   0.29400387]\n",
      "[0.34689619 0.19405321 0.20657277 0.25247783]\n",
      "[0.27081138 0.27502634 0.19125395 0.26290832]\n",
      "[0.23378729 0.16796368 0.21271077 0.38553826]\n"
     ]
    }
   ],
   "source": [
    "trans_mat = []\n",
    "for row in B:\n",
    "    print(row[0:-1]/row[-1])\n",
    "    trans_mat.append(row[0:-1]/row[-1])    "
   ]
  },
  {
   "attachments": {},
   "cell_type": "markdown",
   "metadata": {},
   "source": [
    "#### Question #3. The sum of all amino acids should be 1. The sum of all codons is 1. However, STOP is not a valid amino acid. Yet we should still be able to calculate the probability of any amino acid from the nt frequencies, by proper normalization. In this case, we normalize by the total probability that leads to codons. So: P(amino acid) = P(all codons for the amino acid) / P(all codons that are valid amino acids). Assume P(A) = 0.3, P(T) = 0.3, P(C) = 0.2, and P(G) = 0.2"
   ]
  },
  {
   "cell_type": "markdown",
   "metadata": {},
   "source": [
    "#### (4pts) What is the P(all codons that are valid amino acids)?\n",
    "P(all possible codons) = 64/64 = 1 <br>\n",
    "STOP codons: TAA, TAG, TGA; P(a STOP codon) = 3/64 <br>\n",
    "P(all codons that are valid aa) = 61/64 <br>\n",
    "\n",
    "P(a STOP codon) + P(all codons that are valid aa) = 1 <br>\n",
    "P(all codons that are valid aa) = 1 - P(a STOP codon) <br>\n",
    "P(all codons that are valid aa) = 1 - [P(TAA)+P(TAG)+(TGA)] <br>\n",
    "    &nbsp; &nbsp; &nbsp; Assuming independent nucleotides: <br>\n",
    "    &nbsp; &nbsp; &nbsp; P(TAA) = P(T)\\*P(A)\\*P(A) = 0.3 \\* 0.3 \\* 0.3 = 0.027 <br>\n",
    "    &nbsp; &nbsp; &nbsp; P(TAA) = P(T)\\*P(A)\\*P(G) = 0.3 \\* 0.3 \\* 0.2 = 0.018 <br>\n",
    "    &nbsp; &nbsp; &nbsp; P(TAA) = P(T)\\*P(G)\\*P(A) = 0.3 \\* 0.2 \\* 0.3 = 0.018 <br> \n",
    "P(all codons that are valid aa) = 1 - [0.027+0.018+0.018] = 0.937<br>"
   ]
  },
  {
   "cell_type": "markdown",
   "metadata": {},
   "source": [
    "#### Using proper normalization, what is the probability of the following amino acids?\n",
    "\n",
    "According to this DNa codon table:\n",
    "\n",
    "<img src=\"codons.png\" alt=\"Codon Table\" style=\"width:350px;height:350px;\">\n",
    "\n",
    "\n",
    "#### (3pts) Ile (I)\n",
    "\n",
    "DNA codons for I: ATT, ATC, ATA <br>\n",
    "P(all codons for I) = P(ATT) + P(ATC) + P(ATA) <br>\n",
    "= [P(A)\\*P(T)\\*P(T)] + [P(A)\\*P(T)\\*P(C)] + [P(A)\\*P(T)\\*P(A)] <br>\n",
    "= [0.3\\*0.3\\*0.3] + [0.3\\*0.3\\*0.2] + [0.3\\*0.3\\*0.3] <br>\n",
    "= 0.072 <br>\n",
    "\n",
    "P(I) = P(all codons for I) / P(all codons that are valid aa) = 0.072 / 0.937 = 0.077 <br>\n",
    "\n",
    "#### (3pts) Trp (W)\n",
    "\n",
    "DNA codons for W: TGG <br>\n",
    "P(all codons for W) = P(TGG) <br>\n",
    "= P(T)\\*P(G)\\*P(G) <br>\n",
    "= 0.3\\*0.2\\*0.2 <br>\n",
    "= 0.012 <br>\n",
    "\n",
    "P(W) = P(all codons for W) / P(all codons that are valid aa) = 0.012 / 0.937 = 0.013 <br>"
   ]
  },
  {
   "attachments": {},
   "cell_type": "markdown",
   "metadata": {},
   "source": [
    "#### Question #4. Consider the following read returned from the sequencing facility:\n",
    "<b>\n",
    "@SRR001666.1 071112_SLXA-EAS1_s_7:5:1:817:345\n",
    "GCATGTGGTGAGGTGGTAGTGATGGTGATATAGAGTGGTAGTATAAGTGT <br>\n",
    "\\+ <br>\n",
    "IIIIIIIIIIIIIIIIIIIGIIIIIIIIIIIIIIIIIIIIIIAIIGIICI\n",
    "\n",
    "Recommendation: Refer to the Wikipedia page on FASTQ format for the encoding schemes discussed below.\n",
    "</b>"
   ]
  },
  {
   "cell_type": "markdown",
   "metadata": {},
   "source": [
    "<b>(a)\t(2pts) Assume the quality scores are encoded using the Sanger offset (Phred+33). Is this sequence of generally good quality? </b>\n",
    "\n",
    "Phred+33 has the range 0 to 40. Resource: https://support.illumina.com/help/BaseSpace_OLH_009008/Content/Source/Informatics/BS/QualityScoreEncoding_swBS.htm"
   ]
  },
  {
   "cell_type": "code",
   "execution_count": 226,
   "metadata": {},
   "outputs": [
    {
     "name": "stdout",
     "output_type": "stream",
     "text": [
      "Sequence:\n",
      "SRR001666.1 GCATGTGGTGAGGTGGTAGTGATGGTGATATAGAGTGGTAGTATAAGTGT\n",
      "\n",
      "Phred quality score:\n",
      "[40, 40, 40, 40, 40, 40, 40, 40, 40, 40, 40, 40, 40, 40, 40, 40, 40, 40, 40, 38, 40, 40, 40, 40, 40, 40, 40, 40, 40, 40, 40, 40, 40, 40, 40, 40, 40, 40, 40, 40, 40, 40, 32, 40, 40, 38, 40, 40, 34, 40]\n"
     ]
    }
   ],
   "source": [
    "from Bio import SeqIO\n",
    "# \"fastq\" is Sanger style with ascii offset of 33\n",
    "for record in SeqIO.parse(\"fastq_Q4.fq\", \"fastq\"):\n",
    "    print(\"Sequence:\")\n",
    "    print(\"%s %s\" % (record.id, record.seq))\n",
    "    print(\"\\nPhred quality score:\")\n",
    "    scores = record.letter_annotations[\"phred_quality\"]\n",
    "    print(scores)"
   ]
  },
  {
   "cell_type": "markdown",
   "metadata": {},
   "source": [
    "Each score represents the probability that the corresponding nucleotide call is incorrect. The greater the score, the lower the probability and higher the base call accuracy percentage. Looking at the above scores, which has mostly 40s and the lowest is 32, this sequence is generally good quality. "
   ]
  },
  {
   "cell_type": "markdown",
   "metadata": {},
   "source": [
    "<b>(b)\t(5pts) Under this encoding, what base is the lowest quality? (You may circle it in the above) What is the probability of this position being correct? </b>"
   ]
  },
  {
   "cell_type": "code",
   "execution_count": 223,
   "metadata": {},
   "outputs": [
    {
     "data": {
      "text/plain": [
       "42"
      ]
     },
     "execution_count": 223,
     "metadata": {},
     "output_type": "execute_result"
    }
   ],
   "source": [
    "# Find index of lowest Phred score (32) from above list:\n",
    "import numpy as np\n",
    "index_min = np.argmin(scores)\n",
    "index_min"
   ]
  },
  {
   "cell_type": "code",
   "execution_count": 225,
   "metadata": {},
   "outputs": [
    {
     "data": {
      "text/plain": [
       "'A'"
      ]
     },
     "execution_count": 225,
     "metadata": {},
     "output_type": "execute_result"
    }
   ],
   "source": [
    "# Get base that has the lowest score:\n",
    "record.seq[42]"
   ]
  },
  {
   "cell_type": "markdown",
   "metadata": {},
   "source": [
    "The probability of this position (base \"A\") being incorrect is about 0.00063. Therefore, the probability of it being correct is: 1 - 0.00063 = 0.99937. \n",
    "Resource: http://www.genomicidlab.com/quality-1"
   ]
  },
  {
   "cell_type": "markdown",
   "metadata": {},
   "source": [
    "<b>(c)\t(3pts) You realize that you were mistaken in the encoding and it is given in the Illumina 1.3+ (Phred+64) format. Under this encoding scheme, is this sequence of generally good quality? Is the worst position still the one you circled in question b? </b>"
   ]
  },
  {
   "cell_type": "code",
   "execution_count": 227,
   "metadata": {},
   "outputs": [
    {
     "name": "stdout",
     "output_type": "stream",
     "text": [
      "Sequence:\n",
      "SRR001666.1 GCATGTGGTGAGGTGGTAGTGATGGTGATATAGAGTGGTAGTATAAGTGT\n",
      "\n",
      "Phred quality score:\n",
      "[9, 9, 9, 9, 9, 9, 9, 9, 9, 9, 9, 9, 9, 9, 9, 9, 9, 9, 9, 7, 9, 9, 9, 9, 9, 9, 9, 9, 9, 9, 9, 9, 9, 9, 9, 9, 9, 9, 9, 9, 9, 9, 1, 9, 9, 7, 9, 9, 3, 9]\n"
     ]
    }
   ],
   "source": [
    "# \"fastq-illumina\" is newer Illumina 1.3-1.7 files with ascii offset 64\n",
    "for record in SeqIO.parse(\"fastq_Q4.fq\", \"fastq-illumina\"):\n",
    "    print(\"Sequence:\")\n",
    "    print(\"%s %s\" % (record.id, record.seq))\n",
    "    print(\"\\nPhred quality score:\")\n",
    "    scores2 = record.letter_annotations[\"phred_quality\"]\n",
    "    print(scores2)"
   ]
  },
  {
   "cell_type": "code",
   "execution_count": 228,
   "metadata": {},
   "outputs": [
    {
     "data": {
      "text/plain": [
       "42"
      ]
     },
     "execution_count": 228,
     "metadata": {},
     "output_type": "execute_result"
    }
   ],
   "source": [
    "# Find index of lowest Phred score (32) from above list:\n",
    "index_min2 = np.argmin(scores2)\n",
    "index_min2"
   ]
  },
  {
   "cell_type": "markdown",
   "metadata": {},
   "source": [
    "Under this encoding scheme, the quality scores are on the low end of the spectrum (higher probability of error), indicating a generally poor quality sequence. The worst position is still at index 42 (starting from 0 in Python), base \"A.\" "
   ]
  },
  {
   "cell_type": "markdown",
   "metadata": {},
   "source": [
    "#### Question #5. You begin to sequence the genome of Tamatoa, gathering 5,000 reads that were each 600 base pairs long. You have hypothesized that the Tamatoa genome is about 2 million bases long.\n",
    "\n",
    "#### (a)\t(5pts) At what coverage have you sequenced the genome thus far?\n",
    "\n",
    "$C = \\frac{nL}{G}; $ <br>\n",
    "where G = length of genomic seq; n = number of reads; L = length of each read <br>\n",
    "\n",
    "$C = \\frac{5000 * 600}{2000000} = 1.5$ <br>\n",
    "\n",
    "#### (b)\t(5pts) If the coverage of the Tamatoa genome were 6X, what is the probability that a base will be unsequenced?\n",
    "\n",
    "$f(k;\\lambda) = P(X=k) = \\frac{\\lambda^ke^-\\lambda}{k!};$ where $\\lambda = C$ and $k = 0$ for unsequenced base probability<br>\n",
    "\n",
    "$f(0;6) = P(X=0) = \\frac{6^0e^{-6}}{0!} = 0.0025 = 0.25\\%$ chance that a base will be unsequenced\n",
    "\n"
   ]
  },
  {
   "cell_type": "markdown",
   "metadata": {},
   "source": [
    "#### Question #6. (Advanced) Due to redundancy in the genetic code, a sequence of amino acids could be encoded by several DNA sequences. For a ten amino acid long protein fragment, what is the lower and upper bound for the number of possible DNA sequences that can encode this protein sequence? (5 pts per bound)\n",
    "\n",
    "According to this DNa codon table:\n",
    "\n",
    "<img src=\"codons.png\" alt=\"Codon Table\" style=\"width:350px;height:350px;\">\n",
    "\n",
    "If the protein is consisted of only Tryptophans or Methionines, it could be encoded by only 1 DNA sequence as these amino acids are each encoded by a single codon. Thus, lower bound = 1 possible sequence. <br>\n",
    "\n",
    "If the protein is consisted of only Arginine, Leucine, or Serine, it could be encoded by $6^{10}$ DNA sequences as these amino acids are each encoded by 6 codons. Thus, upper bound = $6^{10}$ or 60466176 possible sequences. <br>\n"
   ]
  },
  {
   "attachments": {},
   "cell_type": "markdown",
   "metadata": {},
   "source": [
    "#### Question #7. (Advanced) Consider Ravenhall et. al. Inferring Horizontal Gene Transfer. PLoS Comp Biol 11(5): e1004095 (2015). doi:10.1371/journal.pcbi.1004095 (This article is available on Canvas as RavenhallPLoS2015.pdf)."
   ]
  },
  {
   "cell_type": "markdown",
   "metadata": {},
   "source": [
    "<b>(5pts) (a) Briefly describe the difference between parametric and phylogenetic approaches to detecting horizontal gene transfer (HGT).</b>\n",
    "\n",
    "The parametric approach is based on sequence composition, searching for significant deviations from genomic averages, using metrics such as GC content or codon usage. The phylogenetic approach is based on evolutionary history, to identify genes that have significantly different evolutionary history from the history of a host species. This approach can be divided into explicit methods (reconstruct phylogenetic trees and explicitylu infer horizontal gene transfer events that resulted in that tree) and implicit methods (bypass gene reconstruction and instead looks at species and gene distances). "
   ]
  },
  {
   "cell_type": "markdown",
   "metadata": {},
   "source": [
    "<b>(5 pts) (b) What are the pros and cons of the parametric approaches?</b> <br>\n",
    "\n",
    "Pros: Only need genome of interest and its genomic signatures to infer horizontal gene transfer events; <br>\n",
    "\n",
    "Cons: Overpredictions resulting from the method not accounting for intragenomic variability of the host and marking native segments as HTG events; low ability to detect ancient HGTs due to amelioration; \n"
   ]
  }
 ],
 "metadata": {
  "kernelspec": {
   "display_name": "Python 3",
   "language": "python",
   "name": "python3"
  },
  "language_info": {
   "codemirror_mode": {
    "name": "ipython",
    "version": 3
   },
   "file_extension": ".py",
   "mimetype": "text/x-python",
   "name": "python",
   "nbconvert_exporter": "python",
   "pygments_lexer": "ipython3",
   "version": "3.6.2"
  }
 },
 "nbformat": 4,
 "nbformat_minor": 2
}
