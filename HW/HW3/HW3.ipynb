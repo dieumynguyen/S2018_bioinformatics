{
 "cells": [
  {
   "cell_type": "markdown",
   "metadata": {},
   "source": [
    "### Homework 3\n",
    "Dieu My Nguyen | MCDB 5520 | Mar 09, 2018 "
   ]
  },
  {
   "cell_type": "markdown",
   "metadata": {},
   "source": [
    "<b> 1\\. (a) 1pt What is the advantage of a seeded method like BLAST compared to a Needleman-Wunsch alignment? </b>\n",
    "\n",
    "The Needleman-Wunsch algorithm performs global sequence alignment, most useful when sequences are similar and of roughly equal size. This dynamic programming method is less efficient than word methods such as BLAST. BLAST is useful in large-scale database searches for optical local alignments to a query. It breaks the query and database sequences into fragments and seeks matches between them, whereas dynamic programming methods like the Needleman-Wunsch performed full alignment and are therefore slower than BLAST. BLAST also offers minimal sacrifice of sensitivity to distant relationships between sequences.\n",
    "\n",
    "<b>(b) 3pt Which flavor of BLAST is most sensitive for comparing your sequence to a species that are NOT closely related? Explain in one sentence. </b>\n",
    "\n",
    "Position-Specific Iterative BLAST (PSI-BLAST) (blastpgp) is usually more sensitive in finding distant relatives of a protein. PSI-BLAST uses a score threshold to derive a position-specific scoring matrix, which is used to further search the database for new matches and is updated for subsequent iterations with newly detected sequences. \n",
    "(Source: https://www.ncbi.nlm.nih.gov/books/NBK2590/)\n",
    "\n",
    "<b>(c) 3pt In Karlin-Altshul statistics, what are four main assumptions?</b>\n",
    "\n",
    "1\\. A positive score must be possible <br>\n",
    "2\\. The expected score is negative <br>\n",
    "3\\. The letters of the sequences are independent and identically distributed <br>\n",
    "4\\. The sequences are infinitely long  <br>\n",
    "(Also 5\\. The alignments do not contain gap) <br>\n",
    "(Source: http://www.utdallas.edu/~prr105020/biol6385/2018/lecture/Stat_sig.pdf)\n",
    "\n",
    "<b>(d) 3pt Describe a scenario where BLAST will be incapable of finding a high quality match, even when one exists in the database. To get full credit, you must specify the word hit length utilized by BLAST in your scenario AND state the actual percent identity of your query to the best sequence in the database (which BLAST is unable to find).</b>\n",
    "\n",
    "BLAST, under standard settings, will be incapable of finding the high quality of match in case of searching short sequences (<20 bases), such as primers and small RNAs. Standard nucleotide BLAST uses word size of 11-- too high for short sequences as BLAST requires an uninterrupted stretch of 11 identical nucleotides to align 2 sequences. To work with short sequences, we would have to decrease the word size (some recommend 7) to increase sensitivity. The percent identity of the query to the best sequence in the database would be low (<50%). \n"
   ]
  },
  {
   "cell_type": "markdown",
   "metadata": {},
   "source": [
    "<b>2\\. You will need the Hmwk3.fa file on Canvas for this question. This fasta file contains a segment of an archaeal genome that is not quite finished. The goal is to analyze this segment. Using NCBI Blast: http://blast.ncbi.nlm.nih.gov/Blast.cgi follow the directions below and answer the following questions. The documentation for NCBI Blast is available at:\n",
    "ftp://ftp.ncbi.nlm.nih.gov/pub/factsheets/HowTo_BLASTGuide.pdf\n",
    "\n",
    "You decide to use BLASTX (select Blastx from the front page). Search only the first 6000 nucleotides (query subrange 1-6000) against the nonredundant (nr) database. You are only interested in the top hits, so set the \"Max target sequences\" parameter to 50 and word size to 6. (Note that these are “Algorithm Parameters” and can be adjusted by expanding the form at the bottom.) </b>"
   ]
  },
  {
   "cell_type": "markdown",
   "metadata": {},
   "source": [
    "<b>(a) 2 pt What species do you think this sequence originated from? Why? </b> <br>\n",
    "\n",
    "<i>Ignisphaera aggregans.</i> Its type III restriction protein res subunit is the best alignment for our unknown segment, with E value of 0 and query cover 27%. \n",
    "\n",
    "<b>(b) 2 pt What fraction of the query is included in the best alignment? Is this hit a complete gene? </b> <br>\n",
    "\n",
    "27% query cover. This hit is a subunit of the type III restriction protein, not a complete gene. \n",
    "\n",
    "<b>(c) 2 pt What coordinates of the query match and on which strand in the best alignment? (Note that you must view the actual alignment to answer this question.) </b> <br>\n",
    "\n",
    "Coordinates of the hit \"type III restriction protein res subunit [Ignisphaera aggregans DSM 17230]\" are 5548 and 3881. These query coordinated are inverted, matching the minus strand for this alignment as reported in the Frame number of -3. \n",
    "\n",
    "![alt text](hit.png)\n",
    "\n",
    "<b>(d) 1pt Looking at the \"Taxonomy Report\" (find by first clicking on the \"Taxonomy Reports\" link at the top of the results), how many hits were observed to Thermoprotei? </b> <br>\n",
    "\n",
    "67 hits.\n",
    "\n",
    "<b>(e) 3pt In total, How many genes are in the first 6000 bases of this sequence? For full credit, give the names of each gene.</b> <br>\n",
    "\n",
    "There are 4 genes total in the first 6000 bases. In the figure of the distrution of the top hits, there are hits along the sequence from 0 to ~1100, from ~1200 to ~2700, one hit from ~3000 to ~3900, and several hits from ~4000 to 5500. "
   ]
  },
  {
   "cell_type": "markdown",
   "metadata": {},
   "source": [
    "<b>3\\. You are given the protein sequence for Yfg1 and asked to identify distinct domains within the protein. As a first step you use BLAST to search Yfp1 against the non-redundant database (nr) and the top hit is as follows: \n",
    "\n",
    "Name: insulin precursor <br>\n",
    "Score: 320 <br>\n",
    "Query: 100% <br>\n",
    "E-value: 1e-95 <br>\n",
    "Ident: 100% <br>\n",
    "Accession: NP_001191615.1 <br>\n",
    "<br>\n",
    "Observing that your best hit was to a RefSeq entry, you re-run your search against the RefSeq database (all parameters exactly the same, only changing the database utilized) and obtain the following top hit:\n",
    "\n",
    "Name: insulin precursor <br>\n",
    "Score: 320 <br>\n",
    "Query: 100% <br>\n",
    "E-value: 9e-111 <br>\n",
    "Ident: 100% <br>\n",
    "Accession: NP_001191615.1 <br>\n",
    "</b>"
   ]
  },
  {
   "cell_type": "markdown",
   "metadata": {},
   "source": [
    "<b>(a) 3 pt How did you know the hit was to a RefSeq gene?</b> <br>\n",
    "\n",
    "RefSeq accessions are written in the format of NP_xxxxxx. For this protein sequence for Yfg1, the accession is NP_001191615.1, indicating a RefSeq protein accession. \n",
    "\n",
    "<b>(b) 7pt Give what you know about how E-values are calculated, why has the E-value changed between the two searches?</b>\n",
    "\n",
    "The E-value is a parameter represents the expected number of hits we can expect to see by chance when searching a database of a partular size. It decreases exponentially as the score of the match increases. Here, the scores from the 2 searches are the same (320), so this is not why the E-values differ. E-values are also calculated from the length of the query, but if we input the exact same sequence to search, the size of the query is the same and is not the factor to the change in E-value. E-values also decrease as alignments get longer and increase as database gets bigger. Thus, the size of the RefSeq database is probably smaller than the original, making a particular score less easily obtained by chance. "
   ]
  },
  {
   "cell_type": "markdown",
   "metadata": {},
   "source": [
    "<b> 4\\. 10 pt Explain the difference between an algorithm and a scoring scheme. Use an example from class to clarify your definition. </b> <br>\n",
    "\n",
    "The scoring scheme is a way for us to evaluate the goodness of an alignment. The scheme consists of character substitution scores for each character replacement and penalties for gaps, which can be one of several types such as linear and affine. The alignment score is the sum of the substitution scores and gap penalties. This score reflects goodness of alignment. One example scoring scheme for proteins is the PAM matrix. The substitution scores of this  matrix are dervied from the analysis of known alignments of evolutionarily related proteins. \n",
    "\n",
    "Sequence alignment algorithms give us ways to arrange sequences to identify regions of similarity that may suggest some relationship. An example is the Needleman-Wunsch algorithm, which consists of 3 steps: 1) Initialization of the score and traceback matrices, 2) Calculation of scores using a selected scoring scheme and filling in the score and traceback matriced, 3) Inferring the alignment from the traceback matrix. "
   ]
  },
  {
   "cell_type": "markdown",
   "metadata": {},
   "source": [
    "<b>5\\. Suppose that you are worried that you might have a rare disease. You decide to get tested, and suppose that the testing methods for this disease are correct 99 percent of the time (in other words, if you have the disease, it shows that you do with 99 percent probability, and if you don't have the disease, it shows that you do not with 99 percent probability). Suppose this disease is actually quite rare, occurring randomly in the general population in only one of every 10,000\n",
    "people. <br>\n",
    "<br>\n",
    "10 pt You obtain a positive test result. What is the probability that you have the disease? [Hint: Use Bayes Rule]</b> <br>\n",
    "\n",
    "Assume that the disease is independently and identically distributed throughout the population, we use Bayes Rule:\n",
    "\n",
    "\\begin{align*}\n",
    "&\\text{A = have disease} \\\\\n",
    "&\\text{B = test positive} \\\\\n",
    "&P(A) = \\frac{1}{10,000} \\\\\n",
    "&P(B|A) = 0.99 \\\\\n",
    "\\\\\n",
    "&\\text{To derive P(B), we condition on whether A occurs:} \\\\\n",
    "\\\\\n",
    "P(B) &= P(B|A)*P(A) + P(B|\\text{not A})*P(\\text{not A}) \\\\\n",
    "&= (0.99)\\left(\\frac{1}{10,000}\\right) + (1 - 0.99)\\left(1 - \\frac{1}{10,000}\\right) \\\\\n",
    "&= 0.010098 \\\\\n",
    "\\\\\n",
    "P(A|B) &= \\frac{P(A) * P(B|A)}{P(B)} \\\\\n",
    "&= \\frac{\\frac{1}{10,000} * 0.99}{0.010098} \\\\\n",
    "&= 0.0098 \\\\\n",
    "\\end{align*}\n"
   ]
  },
  {
   "cell_type": "markdown",
   "metadata": {},
   "source": [
    "<b>6\\. (Advanced) You are excited about being able to use the human genome browser (at UCSC) to look more closely at the molecular basis of human genetic diseases in the news. To start with, you decide to investigate one of the genes mentioned in the NY Times article \"Disease Cause is Pinpointed with Genome\" by Nicholas Wade\n",
    "(http://www.nytimes.com/2010/03/11/health/research/11gene.html?_r=0). <br>\n",
    "\n",
    "One of the two papers described in this article has two authors \"Lupski JR\" and \"Gibbs RA\", and titled \" Whole-genome sequencing in a patient with Charcot-Marie-Tooth neuropathy\". [The article is downloadable on Canvas.] <br>\n",
    "\n",
    "Use the NYT article, the paper and genome.ucsc.edu human genome browser\n",
    "(version NCBI36/hg18) to answer the following questions.\n",
    "</b>"
   ]
  },
  {
   "cell_type": "markdown",
   "metadata": {},
   "source": [
    "<b>(a) 1pt What is the human gene name, and abbreviation (six letters) that was found to causative of Charcot-Marie-Tooth neuropathy in this subject's genome (you can use this gene name to find the gene quickly, use the \"gene\" window).</b> <br>\n",
    "\n",
    "SH3TC2\n",
    "\n",
    "<b>(b) 2pt How many exons does this gene have (use \"RefSeq Genes\" track, or dark blue \"UCSC Genes\" track)? What is the \"genomic size\" (full length, including exons and introns)? </b> <br>\n",
    "\n",
    "There are 17 exons. <br>\n",
    "Genomic size: 81025 base pairs. \n",
    "\n",
    "<b>(c) 1pt Which DNA sequencing technology was used?</b><br>\n",
    "\n",
    "Sequencing by Oligonucleotide Ligation and Detection (SOLiD), a next-generation sequencing technology that involves ligation-based sequencing and 2-base encoding method. Fluoresent dyes are used to tag combinations of dinucleotides. \n",
    "\n",
    "<b>(d) 1pt The paper describes following two independent mutations through the extended family, and showed only those who inherited both mutations had the disease. What are these mutations? (i.e. Q340R) </b><br>\n",
    "\n",
    "Single-base variants (single-nucleotide polymorphisms, SNPs) and copy-number variants. \n",
    "\n",
    "<b>(e) 1pt For family members with only one bad allele (haploinsufficiency), what were two typical symptoms?</b><br>\n",
    "\n",
    "Median-nerve mononeuropathy at the wrist associated with evidence of a more widespread axonal polyneuropathy, and carpal tunnel syndrome. \n",
    "\n",
    "<b>(f) 1pt Using coordinates and/or protein sequence from Figure 2 from the paper find the position in the UCSC genome browser of the mutation that normally codes for Tyrosine. Figure 2C gives this alignment, but it does NOT mention that there are two species that have the precise mutation variant responsible for this disease. What are these two species?\n",
    "(Hint: in Multiz alignment of 44-vertebrates, click on the settings bar (grey vertical bar on left), and select \"+\" at the top to select and see all species in the Multiz alignment track. Another hint: note that the gene is on the reverse/minus strand, so to \"turn it around\" with 5' end on the left, click on the \"reverse\" button just below the browser window (between the \"configure\" and \"refresh\" buttons). </b><br>\n",
    "\n",
    "The novel missense mutation Y169H is located at: chr5:149,042,716. Species: Mus musculus and Macaca mulatta.\n",
    "\n",
    "<b>(g) 1pt You want to develop a genetic test for this mutation, so you need to find the closest \"SNP\" (single nucleotide polymorphism). You notice there is a SNP in the \"Simple Nucleotide Polymorphisms\" track right next to your mutation. What is the dbSNP id # (starts with \"rs\"), and the chromosome coordinate (i.e. chrX:12345443).</b><br>\n",
    "\n",
    "dbSNP id # rs17722293; chr5:149042711-149042711\n",
    "\n",
    "<b>(h) 2pt You notice that this mutation is found in a relatively small exon. If you were to go looking in the largest exon for other genetic mutations, which exon would that be? Give the exon number and first five nucleotides (on the 5' end) of this exon.</b><br>\n",
    "\n",
    "Exon 17. Nucleotides: GATGC. "
   ]
  }
 ],
 "metadata": {
  "kernelspec": {
   "display_name": "Python 3",
   "language": "python",
   "name": "python3"
  },
  "language_info": {
   "codemirror_mode": {
    "name": "ipython",
    "version": 3
   },
   "file_extension": ".py",
   "mimetype": "text/x-python",
   "name": "python",
   "nbconvert_exporter": "python",
   "pygments_lexer": "ipython3",
   "version": "3.6.2"
  }
 },
 "nbformat": 4,
 "nbformat_minor": 2
}
